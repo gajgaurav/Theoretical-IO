{
  "nbformat": 4,
  "nbformat_minor": 0,
  "metadata": {
    "colab": {
      "provenance": []
    },
    "kernelspec": {
      "name": "python3",
      "display_name": "Python 3"
    },
    "language_info": {
      "name": "python"
    }
  },
  "cells": [
    {
      "cell_type": "code",
      "source": [
        "# Libraries\n",
        "import pandas as pd\n",
        "import numpy as np\n",
        "import matplotlib.pyplot as plt\n",
        "from scipy.optimize import minimize"
      ],
      "metadata": {
        "id": "4XEF6FnZXn6L"
      },
      "execution_count": null,
      "outputs": []
    },
    {
      "cell_type": "code",
      "source": [
        "# Parameters\n",
        "n = 1000 # only for computing transition matrix, will be rescaled later.\n",
        "a = 10\n",
        "E = 1\n",
        "c1 = 2\n",
        "c2 = 1\n",
        "delta = 0.9\n",
        "eta = 0.1\n",
        "nu_1 = 1\n",
        "nu_2 = 0\n",
        "\n",
        "# Equilibrium expressions, as derived in the pdf\n",
        "p = a - (17 / 3)\n",
        "V1 = E / delta\n",
        "\n",
        "# Iteration function\n",
        "def single_update(V2):\n",
        "    # Calculate investment levels with proper handling of negative arguments (equations 13 and 14)\n",
        "    x1_arg = delta * (((2 * eta) - 1) * V1 + (1 - eta) * V2)\n",
        "    x1 = max(0, np.sqrt(max(0, x1_arg)) - 1)\n",
        "\n",
        "    x2_arg = delta * eta * (V2 - V1)\n",
        "    x2 = max(0, np.sqrt(max(0, x2_arg)) - 1)\n",
        "\n",
        "    # Calculate transition probabilities\n",
        "    rho1 = x1 / (1 + x1)\n",
        "    rho2 = x2 / (1 + x2)\n",
        "\n",
        "    # Find stationary distribution using constrained optimization (equations 7 - 9)\n",
        "    def objective(x):\n",
        "        f1, f2, phi = x\n",
        "        f0 = n - f1 - f2\n",
        "\n",
        "        eq1 = (f0 * (1 - phi)) + (f1 * (1 - rho1) * eta) - f0\n",
        "        eq2 = (f0 * phi) + (f1 * (1 - (1 - rho1) * eta - rho1 * (1 - eta))) + (f2 * (1 - rho2) * eta) - f1\n",
        "        eq3 = (f1 * rho1 * (1 - eta)) + (f2 * (1 - (1 - rho2) * eta)) - f2\n",
        "\n",
        "        return eq1**2 + eq2**2 + eq3**2\n",
        "\n",
        "    # Constraints to ensure valid distribution\n",
        "    constraints = [\n",
        "        {'type': 'ineq', 'fun': lambda x: x[0]},          # f1 >= 0\n",
        "        {'type': 'ineq', 'fun': lambda x: x[1]},          # f2 >= 0\n",
        "        {'type': 'ineq', 'fun': lambda x: n - x[0] - x[1]}, # f0 >= 0\n",
        "        {'type': 'ineq', 'fun': lambda x: x[2]},          # phi >= 0\n",
        "        {'type': 'ineq', 'fun': lambda x: 1 - x[2]}       # phi <= 1\n",
        "    ]\n",
        "\n",
        "    # Try multiple starting points to increase chances of finding valid solution (for numerical accuracy)\n",
        "    best_result = None\n",
        "    best_obj = float('inf')\n",
        "\n",
        "    for f1_start, f2_start in [(n/3, n/3), (n/2, n/4), (n/4, n/2), (n-1, 1), (1, n-1)]:\n",
        "        result = minimize(objective, [f1_start, f2_start, 0.5],\n",
        "                         constraints = constraints, method = 'SLSQP')\n",
        "\n",
        "        if result.fun < best_obj:\n",
        "            best_obj = result.fun\n",
        "            best_result = result\n",
        "\n",
        "    f1, f2, phi = best_result.x\n",
        "    f0 = (n - f1 - f2) * (10 / n)\n",
        "\n",
        "    # Add small regularization to prevent division by zero and rescale to n = 10 for the question at hand\n",
        "    f1 = max(0.001, f1) * (10 / n)\n",
        "    f2 = max(0.001, f2) * (10 / n)\n",
        "\n",
        "    # Calculate profits\n",
        "    pi1 = (p - c1) * (7 / (3 * f1)) - x1\n",
        "    pi2 = (p - c2) * (10 / (3 * f2)) - x2\n",
        "\n",
        "    # Compute the implied value functions\n",
        "    V2_new = pi2 + delta * (((1 - rho2) * eta) * V1 + (1 - ((1 - rho2) * eta)) * V2)\n",
        "\n",
        "    return {\n",
        "        'V2_new': V2_new,\n",
        "        'x1': x1,\n",
        "        'x2': x2,\n",
        "        'f0': f0,\n",
        "        'f1': f1,\n",
        "        'f2': f2\n",
        "    }\n",
        "\n",
        "V2_values = np.linspace(7, 10, 3001)\n",
        "\n",
        "# Implementation (takes about 30 seconds to answer)\n",
        "results = []\n",
        "for V2 in V2_values: #\n",
        "    if abs(single_update(V2)['V2_new'] - V2) < 0.0001:\n",
        "      print(V2, single_update(V2))\n",
        "      break"
      ],
      "metadata": {
        "colab": {
          "base_uri": "https://localhost:8080/"
        },
        "id": "X-tYcg79Np18",
        "outputId": "3082602f-365a-4701-b82f-88d8f45073a9"
      },
      "execution_count": null,
      "outputs": [
        {
          "output_type": "stream",
          "name": "stdout",
          "text": [
            "7.5969999999999995 {'V2_new': 7.596970179144673, 'x1': 1.3137782953429222, 'x2': 0, 'f0': 0.11062589593407211, 'f1': 1.6184870790355887, 'f2': 8.270887025030339}\n"
          ]
        }
      ]
    }
  ]
}